{
 "cells": [
  {
   "cell_type": "code",
   "execution_count": 1,
   "metadata": {},
   "outputs": [],
   "source": [
    "from active_rl.environments.atari_wrappers import make_atari, wrap_deepmind\n",
    "from active_rl.utils.atari_utils import fp, ActionSelector\n",
    "from torch.utils.tensorboard import SummaryWriter\n",
    "from active_rl.utils.demonstration_memory import RolloutOfflineReplayMemory\n",
    "from active_rl.utils.demonstration_optimization import standard_optimization, demo_optimization_epochs\n",
    "from active_rl.networks.dqn_atari import MC_DQN\n",
    "import torch.optim as optim \n",
    "from active_rl.utils.demonstration_training_loop import standard_config, std_demo_config, active_demo_std_training\n",
    "from active_rl.utils.acquisition_functions import mc_BALD_wrapper\n",
    "from active_rl.utils.optimization import standard_optimization"
   ]
  },
  {
   "cell_type": "code",
   "execution_count": 2,
   "metadata": {},
   "outputs": [],
   "source": [
    "env_name = 'Breakout'\n",
    "env_raw = make_atari('{}NoFrameskip-v4'.format(env_name))\n",
    "env = wrap_deepmind(env_raw, frame_stack=False, episode_life=True, clip_rewards=True)\n",
    "c,h,w = fp(env.reset()).shape\n",
    "n_actions = env.action_space.n"
   ]
  },
  {
   "cell_type": "code",
   "execution_count": 3,
   "metadata": {},
   "outputs": [],
   "source": [
    "BATCH_SIZE = 256\n",
    "LR = 0.0000625\n",
    "TAU=0.1\n",
    "NUM_ITERS = 20\n",
    "NAME='standard_demo_mc_dqn_BALD'"
   ]
  },
  {
   "cell_type": "code",
   "execution_count": 4,
   "metadata": {},
   "outputs": [],
   "source": [
    "device = 'cuda:1'\n",
    "policy_net = MC_DQN(n_actions).to(device)\n",
    "target_net = MC_DQN(n_actions).to(device)\n",
    "policy_net.apply(policy_net.init_weights)\n",
    "target_net.load_state_dict(policy_net.state_dict())\n",
    "target_net.eval()\n",
    "optimizer = optim.Adam(policy_net.parameters(), lr=LR, eps=1.5e-4)\n",
    "\n",
    "BALD_rank_func = mc_BALD_wrapper(policy_net, TAU, NUM_ITERS, BATCH_SIZE, device)"
   ]
  },
  {
   "cell_type": "code",
   "execution_count": 5,
   "metadata": {},
   "outputs": [],
   "source": [
    "writer = SummaryWriter(f'runs/{NAME}')"
   ]
  },
  {
   "cell_type": "code",
   "execution_count": 6,
   "metadata": {},
   "outputs": [],
   "source": [
    "standard_config['file_name'] = './data/Breakout'\n",
    "standard_config['policy_net'] = policy_net\n",
    "standard_config['target_net'] = target_net\n",
    "standard_config['optimizer'] = optimizer\n",
    "standard_config['device'] = device\n",
    "standard_config['writer'] = writer\n",
    "standard_config['epochs'] = 5\n",
    "standard_config['batch_size'] = BATCH_SIZE\n",
    "standard_config['rank_func'] = BALD_rank_func\n",
    "standard_config['demo_epoch_training_func'] = demo_optimization_epochs\n",
    "\n",
    "std_demo_config['env'] = env\n",
    "std_demo_config['env_raw'] = env_raw\n",
    "std_demo_config['device'] = device\n",
    "std_demo_config['policy_net'] = policy_net\n",
    "std_demo_config['target_net'] = target_net\n",
    "std_demo_config['optimizer'] = optimizer\n",
    "std_demo_config['policy_update'] = 2\n",
    "std_demo_config['batch_size'] = BATCH_SIZE\n",
    "std_demo_config['writer'] = writer\n",
    "std_demo_config['demo_config'] = standard_config\n",
    "std_demo_config['std_training_func'] = standard_optimization\n",
    "std_demo_config['demo_training_freq'] = 500"
   ]
  },
  {
   "cell_type": "code",
   "execution_count": null,
   "metadata": {},
   "outputs": [
    {
     "data": {
      "application/vnd.jupyter.widget-view+json": {
       "model_id": "3afa226f427b49a6b18113ab7b09e9ad",
       "version_major": 2,
       "version_minor": 0
      },
      "text/plain": [
       "HBox(children=(HTML(value=''), FloatProgress(value=0.0, layout=Layout(flex='2'), max=20000000.0), HTML(value='…"
      ]
     },
     "metadata": {},
     "output_type": "display_data"
    }
   ],
   "source": [
    "active_demo_std_training(std_demo_config)"
   ]
  },
  {
   "cell_type": "code",
   "execution_count": null,
   "metadata": {},
   "outputs": [],
   "source": []
  }
 ],
 "metadata": {
  "kernelspec": {
   "display_name": "reinforcement learning",
   "language": "python",
   "name": "rl"
  },
  "language_info": {
   "codemirror_mode": {
    "name": "ipython",
    "version": 3
   },
   "file_extension": ".py",
   "mimetype": "text/x-python",
   "name": "python",
   "nbconvert_exporter": "python",
   "pygments_lexer": "ipython3",
   "version": "3.8.1"
  }
 },
 "nbformat": 4,
 "nbformat_minor": 4
}
