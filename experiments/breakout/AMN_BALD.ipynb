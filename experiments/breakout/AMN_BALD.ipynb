{
 "cells": [
  {
   "cell_type": "code",
   "execution_count": 7,
   "metadata": {},
   "outputs": [],
   "source": [
    "import torch\n",
    "from active_rl.networks import ENS_DQN\n",
    "from active_rl.trainer import train_AMN\n",
    "from active_rl.utils import make_raw_env, env_shape, LabeledReplayMemory, AMN_optimization_ensemble, ens_BALD"
   ]
  },
  {
   "cell_type": "code",
   "execution_count": 8,
   "metadata": {},
   "outputs": [],
   "source": [
    "BATCH_SIZE = 128\n",
    "LR = 0.0000625\n",
    "GAMMA = 0.99\n",
    "EPS = 0.05\n",
    "NUM_STEPS = 10000000\n",
    "NOT_LABELLED_CAPACITY = 10000\n",
    "LABELLED_CAPACITY = 400000\n",
    "INITIAL_STEPS=NOT_LABELLED_CAPACITY\n",
    "PERCENTAGE = 0.05\n",
    "TRAIN_ITERS = int(PERCENTAGE * NOT_LABELLED_CAPACITY / 10)\n",
    "\n",
    "ENV_NAME = 'Breakout'\n",
    "NAME = 'AMN_Ensemble_5_perc_labelled'"
   ]
  },
  {
   "cell_type": "code",
   "execution_count": 9,
   "metadata": {},
   "outputs": [],
   "source": [
    "env_raw = make_raw_env(ENV_NAME)\n",
    "channel, height, width, n_actions = env_shape(env_raw)"
   ]
  },
  {
   "cell_type": "code",
   "execution_count": null,
   "metadata": {},
   "outputs": [],
   "source": [
    "device = torch.device(\"cuda\" if torch.cuda.is_available() else \"cpu\") \n",
    "AMN_net = ENS_DQN(n_actions).to(device)\n",
    "expert_net = torch.load(\"models/dqn_expert_breakout_model\").to(device)\n",
    "expert_net.eval()\n",
    "optimizer = optim.Adam(AMN_net.parameters(), lr=LR, eps=1.5e-4)\n",
    "train_func = AMN_optimization_ensemble\n",
    "memory = LabeledReplayMemory(NOT_LABELLED_CAPACITY, LABELLED_CAPACITY, [5 * channel, height, width], \n",
    "                             n_actions, ens_BALD, AMN_net, device=device)\n",
    "action_selector = ActionSelector(AMN_net, EPS, EPS, 1, n_actions, device)\n",
    "writer = SummaryWriter(f'runs/{NAME}')"
   ]
  },
  {
   "cell_type": "code",
   "execution_count": null,
   "metadata": {},
   "outputs": [],
   "source": [
    "train_AMN(AMN_net, expert_net, optimizer, memory, action_selector, TRAIN_ITERS, train_func, env_raw, NUM_STEPS,\n",
    "         INITIAL_STEPS, PERCENTAGE, NOT_LABELLED_CAPACITY, batch_size=BATCH_SIZE, writer=writer, device=device)"
   ]
  }
 ],
 "metadata": {
  "kernelspec": {
   "display_name": "Python (rl)",
   "language": "python",
   "name": "rl"
  },
  "language_info": {
   "codemirror_mode": {
    "name": "ipython",
    "version": 3
   },
   "file_extension": ".py",
   "mimetype": "text/x-python",
   "name": "python",
   "nbconvert_exporter": "python",
   "pygments_lexer": "ipython3",
   "version": "3.8.1"
  }
 },
 "nbformat": 4,
 "nbformat_minor": 4
}
