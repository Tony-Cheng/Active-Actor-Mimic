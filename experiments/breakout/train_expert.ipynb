{
 "cells": [
  {
   "cell_type": "code",
   "execution_count": 1,
   "metadata": {},
   "outputs": [],
   "source": [
    "import sys, os\n",
    "sys.path.append(os.path.abspath('../..'))"
   ]
  },
  {
   "cell_type": "code",
   "execution_count": 2,
   "metadata": {},
   "outputs": [],
   "source": [
    "import torch\n",
    "import torch.optim as optim\n",
    "import gym\n",
    "from torch.utils.tensorboard import SummaryWriter\n",
    "from itertools import count\n",
    "\n",
    "from networks.dqn_atari import DQN\n",
    "from utils.memory import StandardReplayMemory\n",
    "from utils.optimization import standard_optimization\n",
    "from utils.atari_utils import select_action, get_state, eps_decay"
   ]
  },
  {
   "cell_type": "code",
   "execution_count": 3,
   "metadata": {},
   "outputs": [],
   "source": [
    "n_episodes = 20000\n",
    "TARGET_UPDATE = 1000\n",
    "INITIAL_MEMORY = 10000\n",
    "MEMORY_SIZE = 10 * INITIAL_MEMORY\n",
    "lr=1e-4\n",
    "device = 'cuda'"
   ]
  },
  {
   "cell_type": "code",
   "execution_count": 4,
   "metadata": {},
   "outputs": [],
   "source": [
    "env = gym.make(\"Breakout-v0\")\n",
    "n_actions = env.action_space.n"
   ]
  },
  {
   "cell_type": "code",
   "execution_count": 5,
   "metadata": {},
   "outputs": [],
   "source": [
    "policy_net = DQN(n_actions=n_actions).to(device)\n",
    "target_net = DQN(n_actions=n_actions).to(device)\n",
    "target_net.load_state_dict(policy_net.state_dict())\n",
    "optimizer = optim.Adam(policy_net.parameters(), lr=lr)\n",
    "memory = StandardReplayMemory(MEMORY_SIZE)"
   ]
  },
  {
   "cell_type": "code",
   "execution_count": 6,
   "metadata": {},
   "outputs": [],
   "source": [
    "writer=SummaryWriter()"
   ]
  },
  {
   "cell_type": "code",
   "execution_count": null,
   "metadata": {},
   "outputs": [],
   "source": [
    "steps_done = 0\n",
    "for episode in range(n_episodes):\n",
    "  obs = env.reset()\n",
    "  state = get_state(obs)\n",
    "  total_reward = 0.0\n",
    "  for t in count():\n",
    "    eps_threshold = eps_decay(steps_done)\n",
    "    action = select_action(policy_net, state, eps_threshold, n_actions=n_actions)\n",
    "    steps_done += 1\n",
    "    \n",
    "    obs, reward, done, info = env.step(action)\n",
    "    \n",
    "    total_reward += reward\n",
    "    \n",
    "    if not done:\n",
    "      next_state = get_state(obs)\n",
    "    else:\n",
    "      next_state = None\n",
    "      \n",
    "    reward = torch.Tensor([reward])\n",
    "    \n",
    "    memory.push(state, action.to('cpu'), next_state, reward.to('cpu'))\n",
    "    state = next_state\n",
    "    \n",
    "    if steps_done > INITIAL_MEMORY:\n",
    "      loss = standard_optimization(policy_net, target_net, memory, optimizer)\n",
    "      writer.add_scalar('loss', loss, steps_done)\n",
    "      \n",
    "      if steps_done % TARGET_UPDATE == 0:\n",
    "        target_net.load_state_dict(policy_net.state_dict())\n",
    "    \n",
    "    if done:\n",
    "      break\n",
    "  writer.add_scalar('reward', total_reward, episode)"
   ]
  },
  {
   "cell_type": "code",
   "execution_count": 8,
   "metadata": {},
   "outputs": [],
   "source": [
    "torch.save(policy_net, \"models/dqn_expert_breakout_model\")\n",
    "policy_net = torch.load(\"models/dqn_expert_breakout_model\")"
   ]
  },
  {
   "cell_type": "code",
   "execution_count": null,
   "metadata": {},
   "outputs": [],
   "source": []
  }
 ],
 "metadata": {
  "kernelspec": {
   "display_name": "Python 3",
   "language": "python",
   "name": "python3"
  },
  "language_info": {
   "codemirror_mode": {
    "name": "ipython",
    "version": 3
   },
   "file_extension": ".py",
   "mimetype": "text/x-python",
   "name": "python",
   "nbconvert_exporter": "python",
   "pygments_lexer": "ipython3",
   "version": "3.7.6"
  }
 },
 "nbformat": 4,
 "nbformat_minor": 4
}
