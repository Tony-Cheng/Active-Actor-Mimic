{
 "cells": [
  {
   "cell_type": "code",
   "execution_count": 2,
   "metadata": {},
   "outputs": [],
   "source": [
    "import sys, os\n",
    "sys.path.append(os.path.abspath('../..'))"
   ]
  },
  {
   "cell_type": "code",
   "execution_count": 3,
   "metadata": {},
   "outputs": [],
   "source": [
    "import torch\n",
    "import torch.optim as optim\n",
    "import gym\n",
    "from torch.utils.tensorboard import SummaryWriter\n",
    "from itertools import count\n",
    "\n",
    "from networks.dqn_atari import DQN\n",
    "from utils.memory import StandardReplayMemory\n",
    "from utils.optimization import standard_optimization\n",
    "from utils.atari_utils import select_action, get_state, eps_decay, transform_reward"
   ]
  },
  {
   "cell_type": "code",
   "execution_count": 4,
   "metadata": {},
   "outputs": [],
   "source": [
    "n_episodes = 200000\n",
    "POLICY_UPDATE = 4\n",
    "TARGET_UPDATE = 4000\n",
    "INITIAL_MEMORY = 50000\n",
    "REWARD_UPDATE = 100\n",
    "MEMORY_SIZE = 20 * INITIAL_MEMORY\n",
    "lr=0.00025\n",
    "device = 'cuda'"
   ]
  },
  {
   "cell_type": "code",
   "execution_count": 5,
   "metadata": {},
   "outputs": [],
   "source": [
    "env = gym.make(\"BreakoutDeterministic-v4\")\n",
    "n_actions = env.action_space.n"
   ]
  },
  {
   "cell_type": "code",
   "execution_count": 6,
   "metadata": {},
   "outputs": [],
   "source": [
    "policy_net = DQN(n_actions=n_actions).to(device)\n",
    "target_net = DQN(n_actions=n_actions).to(device)\n",
    "target_net.load_state_dict(policy_net.state_dict())\n",
    "optimizer = optim.Adam(policy_net.parameters(), lr=lr)\n",
    "memory = StandardReplayMemory(MEMORY_SIZE)"
   ]
  },
  {
   "cell_type": "code",
   "execution_count": 7,
   "metadata": {},
   "outputs": [],
   "source": [
    "writer=SummaryWriter()\n",
    "steps_done = 0"
   ]
  },
  {
   "cell_type": "code",
   "execution_count": null,
   "metadata": {},
   "outputs": [],
   "source": [
    "for episode in range(n_episodes):\n",
    "  obs = env.reset()\n",
    "  state = get_state(obs)\n",
    "  total_reward = 0.0\n",
    "  states_list = [state, state, state]\n",
    "  for t in count():\n",
    "    eps_threshold = eps_decay(steps_done, EPS_DECAY=MEMORY_SIZE)\n",
    "    cur_states = torch.cat(states_list).unsqueeze(0)\n",
    "    action = select_action(policy_net, cur_states, eps_threshold, n_actions=n_actions)\n",
    "    steps_done += 1\n",
    "    \n",
    "    obs, reward, done, info = env.step(action)\n",
    "    \n",
    "    total_reward += reward\n",
    "    \n",
    "    reward = transform_reward(reward)\n",
    "    \n",
    "    if not done:\n",
    "      next_state = get_state(obs)\n",
    "      states_list.append(next_state)\n",
    "      states_list = states_list[1:]\n",
    "      next_states = torch.cat(states_list).unsqueeze(0)\n",
    "    else:\n",
    "      next_state = None\n",
    "      states_list = None\n",
    "      next_states = None\n",
    "      \n",
    "    reward = torch.Tensor([reward])\n",
    "    \n",
    "    memory.push(cur_states, action.to('cpu'), next_states, reward.to('cpu'))\n",
    "    state = next_state\n",
    "    \n",
    "    if steps_done > INITIAL_MEMORY and steps_done % POLICY_UPDATE == 0:\n",
    "      loss = standard_optimization(policy_net, target_net, memory, optimizer)\n",
    "      writer.add_scalar('Performance/loss', loss, steps_done)\n",
    "      \n",
    "    if steps_done % TARGET_UPDATE == 0:\n",
    "      target_net.load_state_dict(policy_net.state_dict())\n",
    "    \n",
    "    if done:\n",
    "      break\n",
    "      \n",
    "    writer.add_scalar('Other/episode', episode, episode)\n",
    "    writer.add_scalar('Other/epsilon', eps_decay(steps_done, EPS_DECAY=MEMORY_SIZE), episode)\n",
    "    writer.add_scalar('Performance/reward', total_reward, episode)\n",
    "    \n",
    "#   if episode % REWARD_UPDATE:\n",
    "#     torch.save(policy_net, \"models/dqn_expert_breakout_model\")\n",
    "    \n",
    "#     total_reward = 0.0\n",
    "#     for _ in range(10):\n",
    "#       obs = env.reset()\n",
    "#       state = get_state(obs)\n",
    "#       for t in count():\n",
    "#         action = select_action(policy_net, state, 0.02, n_actions=n_actions)\n",
    "#         obs, reward, done, info = env.step(action)\n",
    "#         total_reward += reward\n",
    "      \n",
    "#         if not done:\n",
    "#           next_state = get_state(obs)\n",
    "#         else:\n",
    "#           next_state = None\n",
    "    \n",
    "#         state = next_state\n",
    "#         if done:\n",
    "#           break\n",
    "          \n",
    "#     total_reward /= 10.0"
   ]
  },
  {
   "cell_type": "code",
   "execution_count": null,
   "metadata": {},
   "outputs": [],
   "source": [
    "torch.save(policy_net, \"models/dqn_expert_breakout_model\")\n",
    "policy_net = torch.load(\"models/dqn_expert_breakout_model\")"
   ]
  },
  {
   "cell_type": "code",
   "execution_count": null,
   "metadata": {},
   "outputs": [],
   "source": []
  }
 ],
 "metadata": {
  "kernelspec": {
   "display_name": "Python 3",
   "language": "python",
   "name": "python3"
  },
  "language_info": {
   "codemirror_mode": {
    "name": "ipython",
    "version": 3
   },
   "file_extension": ".py",
   "mimetype": "text/x-python",
   "name": "python",
   "nbconvert_exporter": "python",
   "pygments_lexer": "ipython3",
   "version": "3.7.6"
  }
 },
 "nbformat": 4,
 "nbformat_minor": 4
}
