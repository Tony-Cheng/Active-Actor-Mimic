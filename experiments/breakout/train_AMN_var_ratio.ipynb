{
 "cells": [
  {
   "cell_type": "code",
   "execution_count": 1,
   "metadata": {},
   "outputs": [],
   "source": [
    "import sys, os\n",
    "sys.path.append(os.path.abspath('../..'))"
   ]
  },
  {
   "cell_type": "code",
   "execution_count": 2,
   "metadata": {},
   "outputs": [],
   "source": [
    "from tqdm.notebook import tqdm\n",
    "import math\n",
    "import gym\n",
    "import torch\n",
    "import torch.optim as optim \n",
    "from torch.utils.tensorboard import SummaryWriter\n",
    "from collections import deque\n",
    "\n",
    "from networks.dqn_atari import MC_DQN\n",
    "from utils.memory import RankedReplayMemory\n",
    "from utils.optimization import AMN_perc_optimization\n",
    "from environments.atari_wrappers import make_atari, wrap_deepmind\n",
    "from utils.atari_utils import fp, ActionSelector, evaluate\n",
    "from utils.acquisition_functions import mc_var_ratio"
   ]
  },
  {
   "cell_type": "code",
   "execution_count": 3,
   "metadata": {},
   "outputs": [],
   "source": [
    "env_name = 'Breakout'\n",
    "env_raw = make_atari('{}NoFrameskip-v4'.format(env_name))\n",
    "env = wrap_deepmind(env_raw, frame_stack=False, episode_life=False, clip_rewards=True)\n",
    "c,h,w = c,h,w = fp(env.reset()).shape\n",
    "n_actions = env.action_space.n"
   ]
  },
  {
   "cell_type": "code",
   "execution_count": 4,
   "metadata": {},
   "outputs": [],
   "source": [
    "BATCH_SIZE = 32\n",
    "LR = 0.0000625\n",
    "GAMMA = 0.99\n",
    "EPS_START = 1.\n",
    "EPS_END = 0.1\n",
    "EPS_DECAY = 1000000\n",
    "TARGET_UPDATE = 10000\n",
    "NUM_STEPS = 30000000\n",
    "M_SIZE = 100000\n",
    "POLICY_UPDATE = 10000\n",
    "EVALUATE_FREQ = 100000\n",
    "SAVE_FREQ = 100000\n",
    "\n",
    "NAME = 'train_AMN_var_ratio'\n",
    "FEATURE_REGRESSION = False\n",
    "PERCENTAGE = 0.2"
   ]
  },
  {
   "cell_type": "code",
   "execution_count": 5,
   "metadata": {},
   "outputs": [],
   "source": [
    "device = torch.device(\"cuda\" if torch.cuda.is_available() else \"cpu\") # if gpu is to be used\n",
    "AMN_net = MC_DQN(n_actions).to(device)\n",
    "expert_net = torch.load(\"models/dqn_expert_breakout_model\").to(device)\n",
    "AMN_net.apply(AMN_net.init_weights)\n",
    "expert_net.eval()\n",
    "optimizer = optim.Adam(AMN_net.parameters(), lr=LR, eps=1.5e-4)"
   ]
  },
  {
   "cell_type": "code",
   "execution_count": 6,
   "metadata": {},
   "outputs": [],
   "source": [
    "memory = RankedReplayMemory(M_SIZE, [5,h,w], n_actions, mc_var_ratio, AMN_net, device=device)\n",
    "action_selector = ActionSelector(EPS_START, EPS_END, AMN_net, EPS_DECAY, n_actions, device)"
   ]
  },
  {
   "cell_type": "code",
   "execution_count": 7,
   "metadata": {},
   "outputs": [],
   "source": [
    "steps_done = 0\n",
    "writer = SummaryWriter(f'runs/{NAME}')"
   ]
  },
  {
   "cell_type": "code",
   "execution_count": 8,
   "metadata": {},
   "outputs": [],
   "source": [
    "q = deque(maxlen=5)\n",
    "done=True\n",
    "eps = 0\n",
    "episode_len = 0"
   ]
  },
  {
   "cell_type": "code",
   "execution_count": null,
   "metadata": {},
   "outputs": [
    {
     "data": {
      "application/vnd.jupyter.widget-view+json": {
       "model_id": "29072e2d8f25424a8ffc4d35ece9ee25",
       "version_major": 2,
       "version_minor": 0
      },
      "text/plain": [
       "HBox(children=(FloatProgress(value=0.0, layout=Layout(flex='2'), max=30000000.0), HTML(value='')), layout=Layo…"
      ]
     },
     "metadata": {},
     "output_type": "display_data"
    }
   ],
   "source": [
    "progressive = tqdm(range(NUM_STEPS), total=NUM_STEPS, ncols=400, leave=False, unit='b')\n",
    "for step in progressive:\n",
    "  if done:\n",
    "    env.reset()\n",
    "    sum_reward = 0\n",
    "    episode_len = 0\n",
    "    img, _, _, _ = env.step(1) # BREAKOUT specific !!!\n",
    "    for i in range(10): # no-op\n",
    "      n_frame, _, _, _ = env.step(0)\n",
    "      n_frame = fp(n_frame)\n",
    "      q.append(n_frame)\n",
    "        \n",
    "  train = len(memory) > 50000\n",
    "  # Select and perform an action\n",
    "  state = torch.cat(list(q))[1:].unsqueeze(0)\n",
    "  action, eps = action_selector.select_action(state, training=train)\n",
    "  n_frame, reward, done, info = env.step(action)\n",
    "  n_frame = fp(n_frame)\n",
    "\n",
    "  # 5 frame as memory\n",
    "  q.append(n_frame)\n",
    "  memory.push(torch.cat(list(q)).unsqueeze(0), action, reward, done) # here the n_frame means next frame from the previous time step\n",
    "  episode_len += 1\n",
    "\n",
    "  # Perform one step of the optimization (on the target network)\n",
    "  if step % POLICY_UPDATE == 0:\n",
    "    loss = AMN_perc_optimization(AMN_net, expert_net, optimizer, memory, feature_regression=FEATURE_REGRESSION,\n",
    "                                 training=train, batch_size=BATCH_SIZE, percentage=PERCENTAGE, device=device)\n",
    "    if loss is not None:\n",
    "      writer.add_scalar('Performance/loss', loss, step)\n",
    "    \n",
    "    \n",
    "  if step % EVALUATE_FREQ == 0:\n",
    "    evaluated_reward = evaluate(step, AMN_net, device, env_raw, n_actions, eps=0.05, num_episode=15)\n",
    "    writer.add_scalar('Performance/reward', evaluated_reward, step)\n",
    "    \n",
    "  if step % SAVE_FREQ == 0:\n",
    "    torch.save(AMN_net, \"models/dqn_AMN_breakout_var_ratio_model\")"
   ]
  },
  {
   "cell_type": "code",
   "execution_count": null,
   "metadata": {},
   "outputs": [],
   "source": [
    "torch.save(AMN_net, \"models/dqn_AMN_breakout_var_ratio_model\")"
   ]
  },
  {
   "cell_type": "code",
   "execution_count": null,
   "metadata": {},
   "outputs": [],
   "source": [
    "AMN_net = torch.load(\"models/dqn_AMN_breakout_var_ratio_model\")"
   ]
  }
 ],
 "metadata": {
  "kernelspec": {
   "display_name": "Python 3.7.6 64-bit ('ml': conda)",
   "language": "python",
   "name": "python37664bitmlconda6d43f5d01a134e84acc727f43d072b5b"
  },
  "language_info": {
   "codemirror_mode": {
    "name": "ipython",
    "version": 3
   },
   "file_extension": ".py",
   "mimetype": "text/x-python",
   "name": "python",
   "nbconvert_exporter": "python",
   "pygments_lexer": "ipython3",
   "version": "3.7.6"
  }
 },
 "nbformat": 4,
 "nbformat_minor": 4
}
