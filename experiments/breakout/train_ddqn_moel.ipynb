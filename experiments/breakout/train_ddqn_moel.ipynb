{
 "cells": [
  {
   "cell_type": "code",
   "execution_count": 1,
   "metadata": {},
   "outputs": [],
   "source": [
    "from active_rl.experiments_template import build_ddqn_model\n",
    "from active_rl.utils import DiscreteActionConfig\n",
    "from active_rl.networks import StandardDQNAtariBody\n",
    "import torch.optim as optim"
   ]
  },
  {
   "cell_type": "code",
   "execution_count": 2,
   "metadata": {},
   "outputs": [],
   "source": [
    "config = DiscreteActionConfig()\n",
    "config.eps_start = 1.0\n",
    "config.eps_end = 0.01\n",
    "config.eps_decay = 1000000\n",
    "config.memory_size = 200000\n",
    "config.body = StandardDQNAtariBody\n",
    "config.optimizer = optim.Adam\n",
    "config.train_freq = 4\n",
    "config.target_update_freq = 4000\n",
    "config.batch_size = 128\n",
    "config.env_name = 'Breakout'\n",
    "config.initial_steps = 1000\n",
    "config.max_steps = 20000000\n",
    "config.save_freq = 100000\n",
    "config.eval_freq = 10000\n",
    "config.writer_name = 'Build_Breakout_DDQN_Model'\n",
    "config.save_filename = 'breakout_ddqn_model'\n",
    "config.lr = 1e-4"
   ]
  },
  {
   "cell_type": "code",
   "execution_count": null,
   "metadata": {},
   "outputs": [
    {
     "data": {
      "application/vnd.jupyter.widget-view+json": {
       "model_id": "aad091c2a4944adba162e7c971b5c327",
       "version_major": 2,
       "version_minor": 0
      },
      "text/plain": [
       "HBox(children=(FloatProgress(value=0.0, layout=Layout(flex='2'), max=20000000.0), HTML(value='')), layout=Layo…"
      ]
     },
     "metadata": {},
     "output_type": "display_data"
    }
   ],
   "source": [
    "build_ddqn_model(config)"
   ]
  },
  {
   "cell_type": "code",
   "execution_count": null,
   "metadata": {},
   "outputs": [],
   "source": []
  }
 ],
 "metadata": {
  "kernelspec": {
   "display_name": "Python (rl)",
   "language": "python",
   "name": "rl"
  },
  "language_info": {
   "codemirror_mode": {
    "name": "ipython",
    "version": 3
   },
   "file_extension": ".py",
   "mimetype": "text/x-python",
   "name": "python",
   "nbconvert_exporter": "python",
   "pygments_lexer": "ipython3",
   "version": "3.8.1"
  }
 },
 "nbformat": 4,
 "nbformat_minor": 4
}
