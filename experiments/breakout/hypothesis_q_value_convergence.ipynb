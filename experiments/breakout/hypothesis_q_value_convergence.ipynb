{
 "cells": [
  {
   "cell_type": "code",
   "execution_count": 1,
   "metadata": {},
   "outputs": [],
   "source": [
    "from tqdm.notebook import tqdm\n",
    "import math\n",
    "import gym\n",
    "import torch\n",
    "import torch.optim as optim \n",
    "from torch.utils.tensorboard import SummaryWriter\n",
    "from collections import deque\n",
    "import numpy as np\n",
    "\n",
    "from networks.dqn_atari import DQN\n",
    "from active_rl.utils.memory import ReplayMemory\n",
    "from active_rl.utils.optimization import standard_optimization\n",
    "from active_rl.environments.atari_wrappers import make_atari, wrap_deepmind\n",
    "from active_rl.utils.atari_utils import fp, ActionSelector, evaluate\n",
    "from active_rl.utils.acquisition_functions import ens_BALD\n",
    "from active_rl.statistics.q_n2s import compute_q_n2s_ratio"
   ]
  },
  {
   "cell_type": "code",
   "execution_count": 2,
   "metadata": {},
   "outputs": [],
   "source": [
    "env_name = 'Breakout'\n",
    "env_raw = make_atari('{}NoFrameskip-v4'.format(env_name))\n",
    "env = wrap_deepmind(env_raw, frame_stack=False, episode_life=True, clip_rewards=True)\n",
    "c,h,w = c,h,w = fp(env.reset()).shape\n",
    "n_actions = env.action_space.n"
   ]
  },
  {
   "cell_type": "code",
   "execution_count": 3,
   "metadata": {},
   "outputs": [],
   "source": [
    "BATCH_SIZE = 64\n",
    "LR = 0.0000625\n",
    "GAMMA = 0.99\n",
    "EPS_START = 0.01\n",
    "EPS_END = 0.01\n",
    "EPS_DECAY = 1 \n",
    "NUM_STEPS = 20000000\n",
    "POLICY_UPDATE = 4\n",
    "TARGET_UPDATE= 4000\n",
    "EVAL_N2S_RATIO = 5000\n",
    "MEMORY_CAPACITY = 500000\n",
    "INITIAL_STEPS = 1000\n",
    "NUM_NETS = 5\n",
    "\n",
    "NAME = 'hypothesis_q_val_convergence'"
   ]
  },
  {
   "cell_type": "code",
   "execution_count": 4,
   "metadata": {},
   "outputs": [],
   "source": [
    "device = torch.device(\"cuda\" if torch.cuda.is_available() else \"cpu\") # if gpu is to be used\n",
    "policy_nets = []\n",
    "target_nets = []\n",
    "optimizers = []\n",
    "for i in range(NUM_NETS):\n",
    "  policy_net = DQN(n_actions).to(device)\n",
    "  target_net = DQN(n_actions).to(device)\n",
    "  policy_net.apply(policy_net.init_weights)\n",
    "  target_net.load_state_dict(policy_net.state_dict())\n",
    "  target_net.eval()\n",
    "  optimizer = optim.Adam(policy_net.parameters(), lr=LR, eps=1.5e-4)\n",
    "  policy_nets.append(policy_net)\n",
    "  target_nets.append(target_net)\n",
    "  optimizers.append(optimizer)\n",
    "pretrained_net = torch.load(\"models/dqn_expert_breakout_model\").to(device)"
   ]
  },
  {
   "cell_type": "code",
   "execution_count": 5,
   "metadata": {},
   "outputs": [],
   "source": [
    "memory = ReplayMemory(MEMORY_CAPACITY, [5,h,w], n_actions, device)\n",
    "action_selector = ActionSelector(EPS_START, EPS_END, pretrained_net, EPS_DECAY, n_actions, device)"
   ]
  },
  {
   "cell_type": "code",
   "execution_count": 6,
   "metadata": {},
   "outputs": [],
   "source": [
    "steps_done = 0\n",
    "writer = SummaryWriter(f'runs/{NAME}')"
   ]
  },
  {
   "cell_type": "code",
   "execution_count": 7,
   "metadata": {},
   "outputs": [],
   "source": [
    "q = deque(maxlen=5)\n",
    "done=True\n",
    "eps = 0\n",
    "episode_len = 0"
   ]
  },
  {
   "cell_type": "code",
   "execution_count": null,
   "metadata": {},
   "outputs": [
    {
     "data": {
      "application/vnd.jupyter.widget-view+json": {
       "model_id": "753bba597ddb4fb58b889d9f3ceb88a8",
       "version_major": 2,
       "version_minor": 0
      },
      "text/plain": [
       "HBox(children=(FloatProgress(value=0.0, layout=Layout(flex='2'), max=20000000.0), HTML(value='')), layout=Layo…"
      ]
     },
     "metadata": {},
     "output_type": "display_data"
    }
   ],
   "source": [
    "progressive = tqdm(range(NUM_STEPS), total=NUM_STEPS, ncols=400, leave=False, unit='b')\n",
    "for step in progressive:\n",
    "  if done:\n",
    "    env.reset()\n",
    "    sum_reward = 0\n",
    "    episode_len = 0\n",
    "    img, _, _, _ = env.step(1) # BREAKOUT specific !!!\n",
    "    for i in range(10): # no-op\n",
    "      n_frame, _, _, _ = env.step(0)\n",
    "      n_frame = fp(n_frame)\n",
    "      q.append(n_frame)\n",
    "        \n",
    "   # Select and perform an action\n",
    "  state = torch.cat(list(q))[1:].unsqueeze(0)\n",
    "  action, eps = action_selector.select_action(state)\n",
    "  n_frame, reward, done, info = env.step(action)\n",
    "  n_frame = fp(n_frame)\n",
    "\n",
    "  # 5 frame as memory\n",
    "  q.append(n_frame)\n",
    "  memory.push(torch.cat(list(q)).unsqueeze(0), action, reward, done) # here the n_frame means next frame from the previous time step\n",
    "  episode_len += 1\n",
    "    \n",
    "  if step % POLICY_UPDATE == 0 and step > INITIAL_STEPS:\n",
    "    total_loss = 0\n",
    "    for i in range(NUM_NETS):\n",
    "      loss = standard_optimization(policy_nets[i], target_nets[i], optimizers[i], memory, \n",
    "                                   batch_size=BATCH_SIZE, device=device)\n",
    "      total_loss += loss\n",
    "    avg_loss = total_loss / NUM_NETS\n",
    "    if writer is not None:\n",
    "      writer.add_scalar('Performance/loss', avg_loss, step)\n",
    "      \n",
    "  if step % TARGET_UPDATE == 0 and step > INITIAL_STEPS:\n",
    "    for i in range(NUM_NETS):\n",
    "      target_nets[i].load_state_dict(policy_nets[i].state_dict())\n",
    "  \n",
    "  if step % EVAL_N2S_RATIO == 0 and step > INITIAL_STEPS:\n",
    "    states, actions, _, _, _ = memory.sample(BATCH_SIZE)\n",
    "    action_n2s, avg_not_action_n2s, na_to_a_ratio = compute_q_n2s_ratio(policy_nets, states, actions)\n",
    "    writer.add_scalar('Hypothesis/action_n2s', action_n2s, step)\n",
    "    writer.add_scalar('Hypothesis/not_action_n2s', avg_not_action_n2s, step)\n",
    "    writer.add_scalar('Hypothesis/not_action_to_action_ratio', na_to_a_ratio, step)"
   ]
  },
  {
   "cell_type": "code",
   "execution_count": null,
   "metadata": {},
   "outputs": [],
   "source": []
  }
 ],
 "metadata": {
  "kernelspec": {
   "display_name": "Python 3.7.6 64-bit ('ml': conda)",
   "language": "python",
   "name": "python37664bitmlconda6d43f5d01a134e84acc727f43d072b5b"
  },
  "language_info": {
   "codemirror_mode": {
    "name": "ipython",
    "version": 3
   },
   "file_extension": ".py",
   "mimetype": "text/x-python",
   "name": "python",
   "nbconvert_exporter": "python",
   "pygments_lexer": "ipython3",
   "version": "3.7.6"
  }
 },
 "nbformat": 4,
 "nbformat_minor": 4
}
