{
 "cells": [
  {
   "cell_type": "code",
   "execution_count": 1,
   "metadata": {},
   "outputs": [],
   "source": [
    "import torch\n",
    "import torch.optim as optim \n",
    "from torch.utils.tensorboard import SummaryWriter\n",
    "\n",
    "from active_rl.networks import DQN\n",
    "from active_rl.trainer import train_standard\n",
    "from active_rl.utils import make_raw_env, env_shape, ReplayMemory, standard_DDQN, ActionSelector"
   ]
  },
  {
   "cell_type": "code",
   "execution_count": 2,
   "metadata": {},
   "outputs": [],
   "source": [
    "BATCH_SIZE = 128\n",
    "LR = 0.0000625\n",
    "GAMMA = 0.99\n",
    "EPS_START = 1.\n",
    "EPS_END = 0.1\n",
    "EPS_DECAY = 1000000 \n",
    "NUM_STEPS = 20000000\n",
    "MEMORY_CAPACITY = 800000\n",
    "INITIAL_STEPS=200\n",
    "TRAIN_FREQ = 4\n",
    "TARGET_UPDATE_FREQ = 4000\n",
    "EVAL_FREQ = 8000\n",
    "SAVE_FREQ = 50000\n",
    "\n",
    "ENV_NAME = 'Breakout'\n",
    "NAME = 'build_ddqn_model_try4'\n",
    "FILENAME = 'models/DDQN_breakout_model'"
   ]
  },
  {
   "cell_type": "code",
   "execution_count": 3,
   "metadata": {},
   "outputs": [],
   "source": [
    "env_raw = make_raw_env(ENV_NAME)\n",
    "channel, height, width, n_actions = env_shape(env_raw)"
   ]
  },
  {
   "cell_type": "code",
   "execution_count": 4,
   "metadata": {},
   "outputs": [],
   "source": [
    "device = torch.device(\"cuda\" if torch.cuda.is_available() else \"cpu\") \n",
    "policy_net = DQN(n_actions).to(device)\n",
    "target_net = DQN(n_actions).to(device)\n",
    "target_net.load_state_dict(policy_net.state_dict())\n",
    "target_net.eval()\n",
    "optimizer = optim.Adam(policy_net.parameters(), lr=LR, eps=1.5e-4)\n",
    "train_func = standard_DDQN\n",
    "memory = ReplayMemory(MEMORY_CAPACITY, [5 * channel, height, width], n_actions) \n",
    "action_selector = ActionSelector(policy_net, EPS_START, EPS_END, EPS_DECAY, n_actions, device=device)\n",
    "writer = SummaryWriter(f'runs/{NAME}')"
   ]
  },
  {
   "cell_type": "code",
   "execution_count": null,
   "metadata": {},
   "outputs": [
    {
     "data": {
      "application/vnd.jupyter.widget-view+json": {
       "model_id": "0a87afec54ee4427a26d7a3d7f485d06",
       "version_major": 2,
       "version_minor": 0
      },
      "text/plain": [
       "HBox(children=(FloatProgress(value=0.0, layout=Layout(flex='2'), max=20000000.0), HTML(value='')), layout=Layo…"
      ]
     },
     "metadata": {},
     "output_type": "display_data"
    }
   ],
   "source": [
    "train_standard(policy_net, target_net, optimizer, memory, action_selector, TRAIN_FREQ, TARGET_UPDATE_FREQ,\n",
    "               train_func, env_raw, NUM_STEPS, INITIAL_STEPS, EVAL_FREQ, filename=FILENAME, save_freq=SAVE_FREQ,\n",
    "               writer=writer)"
   ]
  },
  {
   "cell_type": "code",
   "execution_count": null,
   "metadata": {},
   "outputs": [],
   "source": []
  }
 ],
 "metadata": {
  "kernelspec": {
   "display_name": "Python (rl)",
   "language": "python",
   "name": "rl"
  },
  "language_info": {
   "codemirror_mode": {
    "name": "ipython",
    "version": 3
   },
   "file_extension": ".py",
   "mimetype": "text/x-python",
   "name": "python",
   "nbconvert_exporter": "python",
   "pygments_lexer": "ipython3",
   "version": "3.8.1"
  }
 },
 "nbformat": 4,
 "nbformat_minor": 4
}
