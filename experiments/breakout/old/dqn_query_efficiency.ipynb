{
 "cells": [
  {
   "cell_type": "code",
   "execution_count": null,
   "metadata": {},
   "outputs": [],
   "source": [
    "import sys, os\n",
    "sys.path.append(os.path.abspath('../..'))"
   ]
  },
  {
   "cell_type": "code",
   "execution_count": 2,
   "metadata": {},
   "outputs": [],
   "source": [
    "from tqdm.notebook import tqdm\n",
    "import math\n",
    "import gym\n",
    "import torch\n",
    "import torch.optim as optim \n",
    "from torch.utils.tensorboard import SummaryWriter\n",
    "from collections import deque\n",
    "\n",
    "from networks.dqn_atari import DQN\n",
    "from utils.memory import RankedReplayMemory, LabeledReplayMemory\n",
    "from utils.optimization import AMN_perc_optimization, AMN_optimization_epochs\n",
    "from environments.atari_wrappers import make_atari, wrap_deepmind\n",
    "from utils.atari_utils import fp, ActionSelector, evaluate\n",
    "from utils.acquisition_functions import mc_random\n",
    "\n",
    "import imageio\n",
    "from utils.visualization import visualize_AMN"
   ]
  },
  {
   "cell_type": "code",
   "execution_count": 3,
   "metadata": {},
   "outputs": [],
   "source": [
    "env_name = 'Breakout'\n",
    "env_raw = make_atari('{}NoFrameskip-v4'.format(env_name))\n",
    "env = wrap_deepmind(env_raw, frame_stack=False, episode_life=False, clip_rewards=True)\n",
    "c,h,w = c,h,w = fp(env.reset()).shape\n",
    "n_actions = env.action_space.n"
   ]
  },
  {
   "cell_type": "code",
   "execution_count": 4,
   "metadata": {},
   "outputs": [],
   "source": [
    "BATCH_SIZE = 128\n",
    "LR = 0.0000625\n",
    "GAMMA = 0.99\n",
    "EPS = 0.05\n",
    "NUM_STEPS = 10000000\n",
    "NOT_LABELLED_CAPACITY = 10000\n",
    "LABELLED_CAPACITY = 100000\n",
    "INITIAL_STEPS=NOT_LABELLED_CAPACITY\n",
    "EPOCHS=20\n",
    "PERCENTAGE = 0.005\n",
    "\n",
    "NAME = 'DQN_05_large_buffer_many_epochs'"
   ]
  },
  {
   "cell_type": "code",
   "execution_count": 5,
   "metadata": {},
   "outputs": [],
   "source": [
    "device = torch.device(\"cuda\" if torch.cuda.is_available() else \"cpu\") # if gpu is to be used\n",
    "AMN_net = DQN(n_actions).to(device)\n",
    "# AMN_net = ENS_DQN(n_actions).to(device)\n",
    "expert_net = torch.load(\"models/dqn_expert_breakout_model\").to(device)\n",
    "AMN_net.apply(AMN_net.init_weights)\n",
    "expert_net.eval()\n",
    "optimizer = optim.Adam(AMN_net.parameters(), lr=LR, eps=1.5e-4)\n",
    "# optimizer = optim.Adam(AMN_net.parameters(), lr=LR, eps=1.5e-4)"
   ]
  },
  {
   "cell_type": "code",
   "execution_count": 6,
   "metadata": {},
   "outputs": [],
   "source": [
    "memory = LabeledReplayMemory(NOT_LABELLED_CAPACITY, LABELLED_CAPACITY, [5,h,w], n_actions, mc_random, AMN_net, device=device)\n",
    "action_selector = ActionSelector(EPS, EPS, AMN_net, 1, n_actions, device)"
   ]
  },
  {
   "cell_type": "code",
   "execution_count": 7,
   "metadata": {},
   "outputs": [],
   "source": [
    "steps_done = 0\n",
    "writer = SummaryWriter(f'runs/{NAME}')"
   ]
  },
  {
   "cell_type": "code",
   "execution_count": 8,
   "metadata": {},
   "outputs": [],
   "source": [
    "q = deque(maxlen=5)\n",
    "done=True\n",
    "eps = 0\n",
    "episode_len = 0\n",
    "num_labels = 0"
   ]
  },
  {
   "cell_type": "code",
   "execution_count": null,
   "metadata": {},
   "outputs": [
    {
     "data": {
      "application/vnd.jupyter.widget-view+json": {
       "model_id": "04d079ee9209483885daa44631169a65",
       "version_major": 2,
       "version_minor": 0
      },
      "text/plain": [
       "HBox(children=(FloatProgress(value=0.0, layout=Layout(flex='2'), max=10000000.0), HTML(value='')), layout=Layo…"
      ]
     },
     "metadata": {},
     "output_type": "display_data"
    }
   ],
   "source": [
    "progressive = tqdm(range(NUM_STEPS), total=NUM_STEPS, ncols=400, leave=False, unit='b')\n",
    "for step in progressive:\n",
    "  if done:\n",
    "    env.reset()\n",
    "    sum_reward = 0\n",
    "    episode_len = 0\n",
    "    img, _, _, _ = env.step(1) # BREAKOUT specific !!!\n",
    "    for i in range(10): # no-op\n",
    "      n_frame, _, _, _ = env.step(0)\n",
    "      n_frame = fp(n_frame)\n",
    "      q.append(n_frame)\n",
    "        \n",
    "  # Select and perform an action\n",
    "  state = torch.cat(list(q))[1:].unsqueeze(0)\n",
    "  action, eps = action_selector.select_action(state)\n",
    "  n_frame, reward, done, info = env.step(action)\n",
    "  n_frame = fp(n_frame)\n",
    "\n",
    "  # 5 frame as memory\n",
    "  q.append(n_frame)\n",
    "  memory.push(torch.cat(list(q)).unsqueeze(0), action, reward, done) # here the n_frame means next frame from the previous time step\n",
    "  episode_len += 1\n",
    "\n",
    "  # Perform one step of the optimization (on the target network)\n",
    "  if step % NOT_LABELLED_CAPACITY == 0 and step > INITIAL_STEPS:\n",
    "    num_labels += memory.label_sample(percentage=PERCENTAGE)\n",
    "    loss = AMN_optimization_epochs(AMN_net, expert_net, optimizer, memory, EPOCHS,\n",
    "                                   batch_size=BATCH_SIZE, device=device)\n",
    "    if loss is not None:\n",
    "      writer.add_scalar('loss_vs_#labels', loss, num_labels)\n",
    "    evaluated_reward = evaluate(step, AMN_net, device, env_raw, n_actions, eps=0.05, num_episode=15)\n",
    "    writer.add_scalar('reward_vs_#labels', evaluated_reward, num_labels)"
   ]
  },
  {
   "cell_type": "code",
   "execution_count": null,
   "metadata": {},
   "outputs": [],
   "source": []
  }
 ],
 "metadata": {
  "kernelspec": {
   "display_name": "Python 3.7.6 64-bit ('ml': conda)",
   "language": "python",
   "name": "python37664bitmlconda6d43f5d01a134e84acc727f43d072b5b"
  },
  "language_info": {
   "codemirror_mode": {
    "name": "ipython",
    "version": 3
   },
   "file_extension": ".py",
   "mimetype": "text/x-python",
   "name": "python",
   "nbconvert_exporter": "python",
   "pygments_lexer": "ipython3",
   "version": "3.7.6"
  }
 },
 "nbformat": 4,
 "nbformat_minor": 4
}
