{
 "cells": [
  {
   "cell_type": "code",
   "execution_count": 1,
   "metadata": {},
   "outputs": [],
   "source": [
    "from tqdm.notebook import tqdm\n",
    "import math\n",
    "import gym\n",
    "import torch\n",
    "import torch.optim as optim \n",
    "from torch.utils.tensorboard import SummaryWriter\n",
    "from collections import deque\n",
    "\n",
    "from active_rl.networks.dqn_atari import DQN, ENS_DQN\n",
    "from active_rl.utils.memory import ReplayMemory, LabelledReplayMemory\n",
    "from active_rl.utils.optimization import standard_optimization, AMN_optimization_ensemble\n",
    "from active_rl.environments.atari_wrappers import make_atari, wrap_deepmind\n",
    "from active_rl.utils.atari_utils import fp, ActionSelector, evaluate\n",
    "from active_rl.utils.training_loop import collect_trajectories\n",
    "from active_rl.utils.acquisition_functions import ens_BALD"
   ]
  },
  {
   "cell_type": "code",
   "execution_count": 2,
   "metadata": {},
   "outputs": [],
   "source": [
    "env_name = 'Breakout'\n",
    "env_raw = make_atari('{}NoFrameskip-v4'.format(env_name))\n",
    "env = wrap_deepmind(env_raw, frame_stack=False, episode_life=True, clip_rewards=True)\n",
    "c,h,w = c,h,w = fp(env.reset()).shape\n",
    "n_actions = env.action_space.n"
   ]
  },
  {
   "cell_type": "code",
   "execution_count": 3,
   "metadata": {},
   "outputs": [],
   "source": [
    "BATCH_SIZE = 64\n",
    "LR = 0.0000625\n",
    "GAMMA = 0.99\n",
    "EPS_START = 1.\n",
    "EPS_END = 0.05\n",
    "EPS_DECAY = 1000000 \n",
    "NUM_STEPS = 20000000\n",
    "POLICY_UPDATE = 4\n",
    "TARGET_UPDATE = 4000\n",
    "EVALUATE_FREQ = 10000\n",
    "MEMORY_CAPACITY = 100000\n",
    "\n",
    "LABELLED_MEMORY_CAPACITY = 10000\n",
    "UNLABELLED_MEMORY_CAPACITY = 10000\n",
    "BATCH_LABEL_PERCENTAGE=0.1\n",
    "TRAINING_ITERATIONS= int(2 * LABELLED_MEMORY_CAPACITY /  BATCH_SIZE)\n",
    "TRAIN_AMN_FREQ = 1000\n",
    "\n",
    "NAME = f'standard_rl_AMN_ens_exploration_{env_name}'"
   ]
  },
  {
   "cell_type": "code",
   "execution_count": 4,
   "metadata": {},
   "outputs": [],
   "source": [
    "device = 'cuda:0'\n",
    "policy_net = DQN(n_actions).to(device)\n",
    "target_net = DQN(n_actions).to(device)\n",
    "policy_net.apply(policy_net.init_weights)\n",
    "target_net.load_state_dict(policy_net.state_dict())\n",
    "target_net.eval()\n",
    "AMN_net = ENS_DQN(n_actions).to(device)\n",
    "optimizer_value = optim.Adam(policy_net.parameters(), lr=LR, eps=1.5e-4)\n",
    "optimizer_AMN = optim.Adam(AMN_net.parameters(), lr=LR, eps=1.5e-4)"
   ]
  },
  {
   "cell_type": "code",
   "execution_count": 5,
   "metadata": {},
   "outputs": [],
   "source": [
    "memory = ReplayMemory(MEMORY_CAPACITY, [5,h,w], n_actions, device)\n",
    "AMN_memory = LabelledReplayMemory(UNLABELLED_MEMORY_CAPACITY, LABELLED_MEMORY_CAPACITY, [5,h,w], n_actions, ens_BALD, AMN_net, device=device)\n",
    "action_selector_explore = ActionSelector(EPS_START, EPS_END, policy_net, EPS_DECAY, n_actions, device)\n",
    "action_selector_AMN = ActionSelector(EPS_START, EPS_END, policy_net, EPS_DECAY, n_actions, device)"
   ]
  },
  {
   "cell_type": "code",
   "execution_count": 6,
   "metadata": {},
   "outputs": [],
   "source": [
    "steps_done = 0\n",
    "writer = SummaryWriter(f'runs/{NAME}')"
   ]
  },
  {
   "cell_type": "code",
   "execution_count": 7,
   "metadata": {},
   "outputs": [],
   "source": [
    "q = deque(maxlen=5)\n",
    "done=True\n",
    "eps = 0\n",
    "episode_len = 0"
   ]
  },
  {
   "cell_type": "code",
   "execution_count": null,
   "metadata": {},
   "outputs": [
    {
     "data": {
      "application/vnd.jupyter.widget-view+json": {
       "model_id": "fffc2d9db3da4702b29440cca0a17e28",
       "version_major": 2,
       "version_minor": 0
      },
      "text/plain": [
       "HBox(children=(HTML(value=''), FloatProgress(value=0.0, layout=Layout(flex='2'), max=20000000.0), HTML(value='…"
      ]
     },
     "metadata": {},
     "output_type": "display_data"
    }
   ],
   "source": [
    "progressive = tqdm(range(NUM_STEPS), total=NUM_STEPS, ncols=400, leave=False, unit='b')\n",
    "for step in progressive:\n",
    "  if done:\n",
    "    env.reset()\n",
    "    sum_reward = 0\n",
    "    episode_len = 0\n",
    "    img, _, _, _ = env.step(1) # BREAKOUT specific !!!\n",
    "    for i in range(10): # no-op\n",
    "      n_frame, _, _, _ = env.step(0)\n",
    "      n_frame = fp(n_frame)\n",
    "      q.append(n_frame)\n",
    "        \n",
    "  # Select and perform an action\n",
    "  state = torch.cat(list(q))[1:].unsqueeze(0)\n",
    "  action, eps = action_selector_explore.select_action(state)\n",
    "  n_frame, reward, done, info = env.step(action)\n",
    "  n_frame = fp(n_frame)\n",
    "\n",
    "  # 5 frame as memory\n",
    "  q.append(n_frame)\n",
    "  memory.push(torch.cat(list(q)).unsqueeze(0), action, reward, done) # here the n_frame means next frame from the previous time step\n",
    "  episode_len += 1\n",
    "\n",
    "  # Perform one step of the optimization (on the target network)\n",
    "  if step % POLICY_UPDATE == 0 and step > 0:\n",
    "    loss = standard_optimization(policy_net, target_net, optimizer_value, memory, batch_size=BATCH_SIZE, device=device)\n",
    "    writer.add_scalar('training/loss_value_net', loss, step)\n",
    "    \n",
    "  # Update the target network, copying all weights and biases in DQN\n",
    "  if step % TARGET_UPDATE == 0 and step > 0:\n",
    "    target_net.load_state_dict(policy_net.state_dict())\n",
    "    \n",
    "  if step % TRAIN_AMN_FREQ == 0 and step > 0:\n",
    "    collect_trajectories(UNLABELLED_MEMORY_CAPACITY, env, action_selector_AMN, AMN_memory)\n",
    "    AMN_memory.label_sample(percentage=BATCH_LABEL_PERCENTAGE, batch_size=BATCH_SIZE)\n",
    "    loss = 0\n",
    "    for _ in range(TRAINING_ITERATIONS):\n",
    "      loss += AMN_optimization_ensemble(AMN_net, target_net, optimizer_AMN, AMN_memory, batch_size=BATCH_SIZE, device=device)\n",
    "    loss /= TRAINING_ITERATIONS\n",
    "    writer.add_scalar('training/loss_AMN_net', loss, step)\n",
    "    \n",
    "  if step % EVALUATE_FREQ == 0 and step > 0:\n",
    "    evaluated_reward = evaluate(step, AMN_net, device, env_raw, n_actions, eps=0.05, num_episode=15)\n",
    "    writer.add_scalar('Performance/reward_vs_step', evaluated_reward, step)"
   ]
  },
  {
   "cell_type": "code",
   "execution_count": null,
   "metadata": {},
   "outputs": [],
   "source": []
  }
 ],
 "metadata": {
  "kernelspec": {
   "display_name": "reinforcement learning",
   "language": "python",
   "name": "rl"
  },
  "language_info": {
   "codemirror_mode": {
    "name": "ipython",
    "version": 3
   },
   "file_extension": ".py",
   "mimetype": "text/x-python",
   "name": "python",
   "nbconvert_exporter": "python",
   "pygments_lexer": "ipython3",
   "version": "3.8.1"
  }
 },
 "nbformat": 4,
 "nbformat_minor": 4
}
