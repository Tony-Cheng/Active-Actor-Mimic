{
 "cells": [
  {
   "cell_type": "code",
   "execution_count": 1,
   "metadata": {},
   "outputs": [],
   "source": [
    "from tqdm.notebook import tqdm\n",
    "import math\n",
    "import gym\n",
    "import torch\n",
    "import torch.optim as optim \n",
    "from torch.utils.tensorboard import SummaryWriter\n",
    "from collections import deque\n",
    "\n",
    "from active_rl.networks.dqn_atari import ENS_DQN\n",
    "from active_rl.utils.memory import LabelledReplayMemory\n",
    "from active_rl.utils.optimization import AMN_optimization_ensemble\n",
    "from active_rl.environments.atari_wrappers import make_atari, wrap_deepmind\n",
    "from active_rl.utils.atari_utils import fp, evaluate, ActionSelector\n",
    "from active_rl.utils.acquisition_functions import ens_BALD"
   ]
  },
  {
   "cell_type": "code",
   "execution_count": 2,
   "metadata": {},
   "outputs": [],
   "source": [
    "env_name = 'Seaquest'\n",
    "env_raw = make_atari('{}NoFrameskip-v4'.format(env_name))\n",
    "env = wrap_deepmind(env_raw, frame_stack=False, episode_life=True, clip_rewards=True)\n",
    "c,h,w = c,h,w = fp(env.reset()).shape\n",
    "n_actions = env.action_space.n"
   ]
  },
  {
   "cell_type": "code",
   "execution_count": 3,
   "metadata": {},
   "outputs": [],
   "source": [
    "BATCH_SIZE = 64\n",
    "LR = 0.0000625\n",
    "GAMMA = 0.99\n",
    "EPS_START = 1.\n",
    "EPS_END = 0.05\n",
    "EPS_DECAY = 400000 \n",
    "NUM_STEPS = 20000000\n",
    "LABELLED_MEMORY_CAPACITY = 10000\n",
    "UNLABELLED_MEMORY_CAPACITY = 10000\n",
    "BATCH_LABEL_PERCENTAGE=0.1\n",
    "TRAINING_ITERATIONS= int(10 * LABELLED_MEMORY_CAPACITY /  BATCH_SIZE)\n",
    "\n",
    "NAME = f\"AMN_ens_Bald_{env_name}_ENS_DECAY_{EPS_DECAY}\""
   ]
  },
  {
   "cell_type": "code",
   "execution_count": 4,
   "metadata": {},
   "outputs": [],
   "source": [
    "device ='cuda:1'\n",
    "AMN_net = ENS_DQN(n_actions).to(device)\n",
    "expert_net = torch.load(\"models/expert_Seaquest_step17000000\", map_location=device)\n",
    "AMN_net.apply(AMN_net.init_weights)\n",
    "expert_net.eval()\n",
    "optimizer = optim.Adam(AMN_net.parameters(), lr=LR, eps=1.0e-4)"
   ]
  },
  {
   "cell_type": "code",
   "execution_count": 5,
   "metadata": {},
   "outputs": [],
   "source": [
    "memory = LabelledReplayMemory(UNLABELLED_MEMORY_CAPACITY, LABELLED_MEMORY_CAPACITY, [5,h,w], n_actions, ens_BALD, AMN_net, device=device)\n",
    "action_selector = ActionSelector(EPS_START, EPS_END, AMN_net, EPS_DECAY, n_actions, device)"
   ]
  },
  {
   "cell_type": "code",
   "execution_count": 6,
   "metadata": {},
   "outputs": [],
   "source": [
    "steps_done = 0\n",
    "num_labels = 0\n",
    "writer = SummaryWriter(f'runs/{NAME}')"
   ]
  },
  {
   "cell_type": "code",
   "execution_count": null,
   "metadata": {},
   "outputs": [
    {
     "data": {
      "application/vnd.jupyter.widget-view+json": {
       "model_id": "d8a2846f34124eefa8b38db07a12abc9",
       "version_major": 2,
       "version_minor": 0
      },
      "text/plain": [
       "HBox(children=(HTML(value=''), FloatProgress(value=0.0, layout=Layout(flex='2'), max=20000000.0), HTML(value='…"
      ]
     },
     "metadata": {},
     "output_type": "display_data"
    }
   ],
   "source": [
    "q = deque(maxlen=5)\n",
    "done=True\n",
    "progressive = tqdm(range(NUM_STEPS), total=NUM_STEPS, ncols=400, leave=False, unit='b')\n",
    "for step in progressive:\n",
    "  if done:\n",
    "    env.reset()\n",
    "    sum_reward = 0\n",
    "    img, _, _, _ = env.step(1) # BREAKOUT specific !!!\n",
    "    for i in range(10): # no-op\n",
    "      n_frame, _, _, _ = env.step(0)\n",
    "      n_frame = fp(n_frame)\n",
    "      q.append(n_frame)\n",
    "        \n",
    "  # Select and perform an action\n",
    "  state = torch.cat(list(q))[1:].unsqueeze(0)\n",
    "  action, eps = action_selector.select_action(state)\n",
    "  n_frame, reward, done, info = env.step(action)\n",
    "  n_frame = fp(n_frame)\n",
    "\n",
    "  # 5 frame as memory\n",
    "  q.append(n_frame)\n",
    "  memory.push(torch.cat(list(q)).unsqueeze(0), action, reward, done) # here the n_frame means next frame from the previous time step\n",
    "\n",
    "  # Perform one step of the optimization (on the target network)\n",
    "  if step % UNLABELLED_MEMORY_CAPACITY == 0 and step > 0:\n",
    "    num_labels += memory.label_sample(percentage=BATCH_LABEL_PERCENTAGE, batch_size=BATCH_SIZE)\n",
    "    loss = 0\n",
    "      \n",
    "    for _ in range(TRAINING_ITERATIONS):\n",
    "      loss += AMN_optimization_ensemble(AMN_net, expert_net, optimizer, memory, batch_size=BATCH_SIZE, device=device)\n",
    "        \n",
    "    loss /= TRAINING_ITERATIONS\n",
    "    writer.add_scalar('Performance/loss', loss, step)\n",
    "      \n",
    "    evaluated_reward_AMN = evaluate(step, AMN_net, device, env_raw, n_actions, eps=0.05, num_episode=20)\n",
    "    writer.add_scalar('Performance/reward_vs_step', evaluated_reward_AMN, step)\n",
    "    writer.add_scalar('Performance/reward_vs_label', evaluated_reward_AMN, num_labels)\n",
    "    \n",
    "    evaluated_reward_expert = evaluate(step, expert_net, device, env_raw, n_actions, eps=0.05, num_episode=20)\n",
    "    writer.add_scalar('Performance/reward_expert_vs_step', evaluated_reward_expert, step)"
   ]
  },
  {
   "cell_type": "code",
   "execution_count": null,
   "metadata": {},
   "outputs": [],
   "source": []
  }
 ],
 "metadata": {
  "kernelspec": {
   "display_name": "reinforcement learning",
   "language": "python",
   "name": "rl"
  },
  "language_info": {
   "codemirror_mode": {
    "name": "ipython",
    "version": 3
   },
   "file_extension": ".py",
   "mimetype": "text/x-python",
   "name": "python",
   "nbconvert_exporter": "python",
   "pygments_lexer": "ipython3",
   "version": "3.8.1"
  }
 },
 "nbformat": 4,
 "nbformat_minor": 4
}
