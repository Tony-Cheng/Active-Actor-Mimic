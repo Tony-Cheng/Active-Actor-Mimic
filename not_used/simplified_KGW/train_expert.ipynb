{
 "cells": [
  {
   "cell_type": "code",
   "execution_count": 1,
   "metadata": {},
   "outputs": [],
   "source": [
    "import sys, os\n",
    "sys.path.append(os.path.abspath('../..'))"
   ]
  },
  {
   "cell_type": "code",
   "execution_count": 2,
   "metadata": {},
   "outputs": [],
   "source": [
    "from tqdm.notebook import tqdm\n",
    "import math\n",
    "import torch\n",
    "import torch.optim as optim \n",
    "from torch.utils.tensorboard import SummaryWriter\n",
    "from collections import deque\n",
    "\n",
    "from environments.simplified_KGW import KGW\n",
    "from networks.dqn_KGW import DQN\n",
    "from utils.KGW_memory import ReplayMemory\n",
    "from utils.optimization import standard_optimization\n",
    "from utils.KGW_utils import fp, ActionSelector, evaluate"
   ]
  },
  {
   "cell_type": "code",
   "execution_count": 3,
   "metadata": {},
   "outputs": [],
   "source": [
    "env = KGW()\n",
    "c,h,w = c,h,w = fp(env.reset()).shape\n",
    "n_actions = env.n_actions"
   ]
  },
  {
   "cell_type": "code",
   "execution_count": 4,
   "metadata": {},
   "outputs": [],
   "source": [
    "BATCH_SIZE = 32\n",
    "LR = 0.0000625\n",
    "GAMMA = 0.99\n",
    "EPS_START = 1.\n",
    "EPS_END = 0.1\n",
    "EPS_DECAY = 1000000\n",
    "TARGET_UPDATE = 10000\n",
    "NUM_STEPS = 10000000\n",
    "M_SIZE = 500000\n",
    "POLICY_UPDATE = 4\n",
    "EVALUATE_FREQ = 100000\n",
    "SAVE_FREQ = 100000"
   ]
  },
  {
   "cell_type": "code",
   "execution_count": 5,
   "metadata": {},
   "outputs": [],
   "source": [
    "device = torch.device(\"cuda\" if torch.cuda.is_available() else \"cpu\") # if gpu is to be used\n",
    "policy_net = DQN(n_actions).to(device)\n",
    "target_net = DQN(n_actions).to(device)\n",
    "policy_net.apply(policy_net.init_weights)\n",
    "target_net.load_state_dict(policy_net.state_dict())\n",
    "target_net.eval()\n",
    "optimizer = optim.Adam(policy_net.parameters(), lr=LR, eps=1.5e-4)"
   ]
  },
  {
   "cell_type": "code",
   "execution_count": 6,
   "metadata": {},
   "outputs": [],
   "source": [
    "memory = ReplayMemory(M_SIZE, [5 * c,h,w], n_actions, device)\n",
    "action_selector = ActionSelector(EPS_START, EPS_END, policy_net, EPS_DECAY, n_actions, device)"
   ]
  },
  {
   "cell_type": "code",
   "execution_count": 7,
   "metadata": {},
   "outputs": [],
   "source": [
    "steps_done = 0\n",
    "writer = SummaryWriter()"
   ]
  },
  {
   "cell_type": "code",
   "execution_count": 8,
   "metadata": {},
   "outputs": [],
   "source": [
    "q = deque(maxlen=5)\n",
    "done=True\n",
    "eps = 0\n",
    "episode_len = 0"
   ]
  },
  {
   "cell_type": "code",
   "execution_count": null,
   "metadata": {},
   "outputs": [
    {
     "data": {
      "application/vnd.jupyter.widget-view+json": {
       "model_id": "34c02e57e4ee4e4883053496b5fd89e5",
       "version_major": 2,
       "version_minor": 0
      },
      "text/plain": [
       "HBox(children=(FloatProgress(value=0.0, layout=Layout(flex='2'), max=30000000.0), HTML(value='')), layout=Layo…"
      ]
     },
     "metadata": {},
     "output_type": "display_data"
    }
   ],
   "source": [
    "progressive = tqdm(range(NUM_STEPS), total=NUM_STEPS, ncols=400, leave=False, unit='b')\n",
    "for step in progressive:\n",
    "  if done:\n",
    "    env.reset()\n",
    "    sum_reward = 0\n",
    "    episode_len = 0\n",
    "    img, _, _, _ = env.step(1) # BREAKOUT specific !!!\n",
    "    for i in range(10): # no-op\n",
    "      n_frame, _, _, _ = env.step(0)\n",
    "      n_frame = fp(n_frame)\n",
    "      q.append(n_frame)\n",
    "        \n",
    "  train = len(memory) > 50000\n",
    "  # Select and perform an action\n",
    "  state = torch.cat(list(q))[8:].unsqueeze(0)\n",
    "  action, eps = action_selector.select_action(state, training=train)\n",
    "  n_frame, reward, done, info = env.step(action)\n",
    "  n_frame = fp(n_frame)\n",
    "\n",
    "  # 5 frame as memory\n",
    "  q.append(n_frame)\n",
    "  memory.push(torch.cat(list(q)).unsqueeze(0), action, reward, done) # here the n_frame means next frame from the previous time step\n",
    "  episode_len += 1\n",
    "\n",
    "  # Perform one step of the optimization (on the target network)\n",
    "  if step % POLICY_UPDATE == 0:\n",
    "    loss = standard_optimization(policy_net, target_net, optimizer, memory, training=train, batch_size=BATCH_SIZE)\n",
    "    if loss is not None:\n",
    "      writer.add_scalar('Performance/loss', loss, step)\n",
    "    \n",
    "  # Update the target network, copying all weights and biases in DQN\n",
    "  if step % TARGET_UPDATE == 0:\n",
    "    target_net.load_state_dict(policy_net.state_dict())\n",
    "    \n",
    "  if step % EVALUATE_FREQ == 0:\n",
    "    evaluated_reward = evaluate(step, policy_net, device, env, n_actions, eps=0.05, num_episode=15)\n",
    "    writer.add_scalar('Performance/reward', evaluated_reward, step)\n",
    "    \n",
    "  if step % SAVE_FREQ == 0:\n",
    "    torch.save(policy_net, \"models/dqn_expert_KGW_model\")"
   ]
  },
  {
   "cell_type": "code",
   "execution_count": null,
   "metadata": {},
   "outputs": [],
   "source": [
    "torch.save(policy_net, \"models/dqn_expert_KGW_model\")"
   ]
  },
  {
   "cell_type": "code",
   "execution_count": null,
   "metadata": {},
   "outputs": [],
   "source": [
    "policy_net = torch.load(\"models/dqn_expert_KGW_model\")"
   ]
  },
  {
   "cell_type": "code",
   "execution_count": null,
   "metadata": {},
   "outputs": [],
   "source": []
  }
 ],
 "metadata": {
  "kernelspec": {
   "display_name": "Python 3.7.6 64-bit ('ml': conda)",
   "language": "python",
   "name": "python37664bitmlconda6d43f5d01a134e84acc727f43d072b5b"
  },
  "language_info": {
   "codemirror_mode": {
    "name": "ipython",
    "version": 3
   },
   "file_extension": ".py",
   "mimetype": "text/x-python",
   "name": "python",
   "nbconvert_exporter": "python",
   "pygments_lexer": "ipython3",
   "version": "3.7.6"
  }
 },
 "nbformat": 4,
 "nbformat_minor": 4
}
