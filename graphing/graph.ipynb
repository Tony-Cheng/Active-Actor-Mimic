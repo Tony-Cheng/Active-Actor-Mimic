{
 "cells": [
  {
   "cell_type": "code",
   "execution_count": 1,
   "metadata": {},
   "outputs": [],
   "source": [
    "import numpy as np\n",
    "from tensorboard.backend.event_processing.event_accumulator import EventAccumulator\n",
    "import plot"
   ]
  },
  {
   "cell_type": "code",
   "execution_count": 2,
   "metadata": {},
   "outputs": [],
   "source": [
    " tf_size_guidance = {\n",
    "        'compressedHistograms': 10,\n",
    "        'images': 0,\n",
    "        'scalars': 1,\n",
    "        'histograms': 1\n",
    "    }"
   ]
  },
  {
   "cell_type": "markdown",
   "metadata": {},
   "source": [
    "## Breakout 10% "
   ]
  },
  {
   "cell_type": "code",
   "execution_count": 3,
   "metadata": {},
   "outputs": [],
   "source": [
    "x_vals_reward = []\n",
    "list_of_yvals_reward = []\n",
    "x_vals_loss = []\n",
    "list_of_yvals_loss = []\n",
    "list_of_names = ['BALD', 'Entropy', 'Variance ratio', 'Random']\n",
    "filename_reward = 'Breakout_MC_10_reward.png'\n",
    "filename_loss = 'Breakout_MC_10_loss.png'\n",
    "title_reward = 'Breakout reward sampling 10% of data in replay buffer'\n",
    "title_loss = 'Breakout loss sampling 10% of data in replay buffer'"
   ]
  },
  {
   "cell_type": "code",
   "execution_count": 4,
   "metadata": {},
   "outputs": [],
   "source": [
    "rewards = []\n",
    "loss = []\n",
    "event_acc = EventAccumulator('./runs/breakout/train_AMN_BALD_perc_10')\n",
    "event_acc.Reload()\n",
    "rewards.append(event_acc.Scalars('Performance/reward'))\n",
    "loss.append(event_acc.Scalars('Performance/loss'))\n",
    "event_acc = EventAccumulator('./runs/breakout/train_AMN_entropy_perc_10')\n",
    "event_acc.Reload()\n",
    "rewards.append(event_acc.Scalars('Performance/reward'))\n",
    "loss.append(event_acc.Scalars('Performance/loss'))\n",
    "event_acc = EventAccumulator('./runs/breakout/train_AMN_var_ratio_perc_10')\n",
    "event_acc.Reload()\n",
    "rewards.append(event_acc.Scalars('Performance/reward'))\n",
    "loss.append(event_acc.Scalars('Performance/loss'))\n",
    "event_acc = EventAccumulator('./runs/breakout/train_AMN_random_perc_10')\n",
    "event_acc.Reload()\n",
    "rewards.append(event_acc.Scalars('Performance/reward'))\n",
    "loss.append(event_acc.Scalars('Performance/loss'))"
   ]
  },
  {
   "cell_type": "code",
   "execution_count": 5,
   "metadata": {},
   "outputs": [],
   "source": [
    "for i in range(len(rewards)):\n",
    "  x_vals_reward.append([])\n",
    "  list_of_yvals_reward.append([])\n",
    "  for j in range(len(rewards[i])):\n",
    "    if int(rewards[i][j].step < 3.5e6):\n",
    "      x_vals_reward[i].append(0 + int(rewards[i][j].step))\n",
    "      list_of_yvals_reward[i].append(int(rewards[i][j].value))\n",
    "plot.plot_line_graph(x_vals_reward, list_of_yvals_reward, list_of_names, filename_reward, title_reward)"
   ]
  },
  {
   "cell_type": "code",
   "execution_count": 6,
   "metadata": {},
   "outputs": [],
   "source": [
    "for i in range(len(loss)):\n",
    "  x_vals_loss.append([])\n",
    "  list_of_yvals_loss.append([])\n",
    "  for j in range(len(loss[i])):\n",
    "    if int(loss[i][j].step < 3.5e6):\n",
    "      x_vals_loss[i].append(0 + int(loss[i][j].step))\n",
    "      list_of_yvals_loss[i].append(int(loss[i][j].value))\n",
    "plot.plot_line_graph(x_vals_loss, list_of_yvals_loss, list_of_names, filename_loss, title_loss)"
   ]
  },
  {
   "cell_type": "markdown",
   "metadata": {},
   "source": [
    "## Breakout 5%"
   ]
  },
  {
   "cell_type": "code",
   "execution_count": 7,
   "metadata": {},
   "outputs": [],
   "source": [
    "x_vals_reward = []\n",
    "list_of_yvals_reward = []\n",
    "x_vals_loss = []\n",
    "list_of_yvals_loss = []\n",
    "list_of_names = ['BALD', 'Entropy', 'Variance ratio', 'Random']\n",
    "filename_reward = 'Breakout_MC_5_reward.png'\n",
    "filename_loss = 'Breakout_MC_5_loss.png'\n",
    "title_reward = 'Breakout reward sampling 5% of data in replay buffer'\n",
    "title_loss = 'Breakout loss sampling 5% of data in replay buffer'"
   ]
  },
  {
   "cell_type": "code",
   "execution_count": 8,
   "metadata": {},
   "outputs": [],
   "source": [
    "rewards = []\n",
    "loss = []\n",
    "event_acc = EventAccumulator('./runs/breakout/train_AMN_BALD_perc_5')\n",
    "event_acc.Reload()\n",
    "rewards.append(event_acc.Scalars('Performance/reward'))\n",
    "loss.append(event_acc.Scalars('Performance/loss'))\n",
    "event_acc = EventAccumulator('./runs/breakout/train_AMN_entropy_perc_5')\n",
    "event_acc.Reload()\n",
    "rewards.append(event_acc.Scalars('Performance/reward'))\n",
    "loss.append(event_acc.Scalars('Performance/loss'))\n",
    "event_acc = EventAccumulator('./runs/breakout/train_AMN_var_ratio_perc_5')\n",
    "event_acc.Reload()\n",
    "rewards.append(event_acc.Scalars('Performance/reward'))\n",
    "loss.append(event_acc.Scalars('Performance/loss'))\n",
    "event_acc = EventAccumulator('./runs/breakout/train_AMN_random_perc_5')\n",
    "event_acc.Reload()\n",
    "rewards.append(event_acc.Scalars('Performance/reward'))\n",
    "loss.append(event_acc.Scalars('Performance/loss'))"
   ]
  },
  {
   "cell_type": "code",
   "execution_count": 9,
   "metadata": {},
   "outputs": [],
   "source": [
    "for i in range(len(rewards)):\n",
    "  x_vals_reward.append([])\n",
    "  list_of_yvals_reward.append([])\n",
    "  for j in range(len(rewards[i])):\n",
    "    if int(rewards[i][j].step < 3.5e6):\n",
    "      x_vals_reward[i].append(0 + int(rewards[i][j].step))\n",
    "      list_of_yvals_reward[i].append(int(rewards[i][j].value))\n",
    "plot.plot_line_graph(x_vals_reward, list_of_yvals_reward, list_of_names, filename_reward, title_reward)"
   ]
  },
  {
   "cell_type": "code",
   "execution_count": 10,
   "metadata": {},
   "outputs": [],
   "source": [
    "for i in range(len(loss)):\n",
    "  x_vals_loss.append([])\n",
    "  list_of_yvals_loss.append([])\n",
    "  for j in range(len(loss[i])):\n",
    "    if int(loss[i][j].step < 3.5e6):\n",
    "      x_vals_loss[i].append(0 + int(loss[i][j].step))\n",
    "      list_of_yvals_loss[i].append(int(loss[i][j].value))\n",
    "plot.plot_line_graph(x_vals_loss, list_of_yvals_loss, list_of_names, filename_loss, title_loss)"
   ]
  },
  {
   "cell_type": "markdown",
   "metadata": {},
   "source": [
    "## Pong 10%"
   ]
  },
  {
   "cell_type": "code",
   "execution_count": 11,
   "metadata": {},
   "outputs": [],
   "source": [
    "x_vals_reward = []\n",
    "list_of_yvals_reward = []\n",
    "x_vals_loss = []\n",
    "list_of_yvals_loss = []\n",
    "list_of_names = ['BALD', 'Entropy', 'Variance ratio', 'Random']\n",
    "filename_reward = 'pong_MC_10_reward.png'\n",
    "filename_loss = 'pong_MC_10_loss.png'\n",
    "title_reward = 'Pong reward sampling 10% of data in replay buffer'\n",
    "title_loss = 'Pong loss sampling 10% of data in replay buffer'"
   ]
  },
  {
   "cell_type": "code",
   "execution_count": 12,
   "metadata": {},
   "outputs": [],
   "source": [
    "rewards = []\n",
    "loss = []\n",
    "event_acc = EventAccumulator('./runs/pong/train_AMN_BALD_perc_10')\n",
    "event_acc.Reload()\n",
    "rewards.append(event_acc.Scalars('Performance/reward'))\n",
    "loss.append(event_acc.Scalars('Performance/loss'))\n",
    "event_acc = EventAccumulator('./runs/pong/train_AMN_entropy_perc_10')\n",
    "event_acc.Reload()\n",
    "rewards.append(event_acc.Scalars('Performance/reward'))\n",
    "loss.append(event_acc.Scalars('Performance/loss'))\n",
    "event_acc = EventAccumulator('./runs/pong/train_AMN_var_ratio_perc_10')\n",
    "event_acc.Reload()\n",
    "rewards.append(event_acc.Scalars('Performance/reward'))\n",
    "loss.append(event_acc.Scalars('Performance/loss'))\n",
    "event_acc = EventAccumulator('./runs/pong/train_AMN_random_perc_10')\n",
    "event_acc.Reload()\n",
    "rewards.append(event_acc.Scalars('Performance/reward'))\n",
    "loss.append(event_acc.Scalars('Performance/loss'))"
   ]
  },
  {
   "cell_type": "code",
   "execution_count": 13,
   "metadata": {},
   "outputs": [],
   "source": [
    "for i in range(len(rewards)):\n",
    "  x_vals_reward.append([])\n",
    "  list_of_yvals_reward.append([])\n",
    "  for j in range(len(rewards[i])):\n",
    "    if int(rewards[i][j].step < 3.5e6):\n",
    "      x_vals_reward[i].append(0 + int(rewards[i][j].step))\n",
    "      list_of_yvals_reward[i].append(int(rewards[i][j].value))\n",
    "plot.plot_line_graph(x_vals_reward, list_of_yvals_reward, list_of_names, filename_reward, title_reward)"
   ]
  },
  {
   "cell_type": "code",
   "execution_count": 14,
   "metadata": {},
   "outputs": [],
   "source": [
    "for i in range(len(loss)):\n",
    "  x_vals_loss.append([])\n",
    "  list_of_yvals_loss.append([])\n",
    "  for j in range(len(loss[i])):\n",
    "    if int(loss[i][j].step < 3.5e6):\n",
    "      x_vals_loss[i].append(0 + int(loss[i][j].step))\n",
    "      list_of_yvals_loss[i].append(int(loss[i][j].value))\n",
    "plot.plot_line_graph(x_vals_loss, list_of_yvals_loss, list_of_names, filename_loss, title_loss)"
   ]
  },
  {
   "cell_type": "markdown",
   "metadata": {},
   "source": [
    "## Pong 40%"
   ]
  },
  {
   "cell_type": "code",
   "execution_count": 15,
   "metadata": {},
   "outputs": [],
   "source": [
    "x_vals_reward = []\n",
    "list_of_yvals_reward = []\n",
    "x_vals_loss = []\n",
    "list_of_yvals_loss = []\n",
    "list_of_names = ['BALD', 'Entropy', 'Variance ratio', 'Random']\n",
    "filename_reward = 'pong_MC_40_reward.png'\n",
    "filename_loss = 'pong_MC_40_loss.png'\n",
    "title_reward = 'Pong reward sampling 40% of data in replay buffer'\n",
    "title_loss = 'Pong loss sampling 40% of data in replay buffer'"
   ]
  },
  {
   "cell_type": "code",
   "execution_count": 16,
   "metadata": {},
   "outputs": [],
   "source": [
    "rewards = []\n",
    "loss = []\n",
    "event_acc = EventAccumulator('./runs/pong/train_AMN_BALD_perc_40')\n",
    "event_acc.Reload()\n",
    "rewards.append(event_acc.Scalars('Performance/reward'))\n",
    "loss.append(event_acc.Scalars('Performance/loss'))\n",
    "event_acc = EventAccumulator('./runs/pong/train_AMN_entropy_perc_40')\n",
    "event_acc.Reload()\n",
    "rewards.append(event_acc.Scalars('Performance/reward'))\n",
    "loss.append(event_acc.Scalars('Performance/loss'))\n",
    "event_acc = EventAccumulator('./runs/pong/train_AMN_var_ratio_perc_40')\n",
    "event_acc.Reload()\n",
    "rewards.append(event_acc.Scalars('Performance/reward'))\n",
    "loss.append(event_acc.Scalars('Performance/loss'))\n",
    "event_acc = EventAccumulator('./runs/pong/train_AMN_random_perc_40')\n",
    "event_acc.Reload()\n",
    "rewards.append(event_acc.Scalars('Performance/reward'))\n",
    "loss.append(event_acc.Scalars('Performance/loss'))"
   ]
  },
  {
   "cell_type": "code",
   "execution_count": 17,
   "metadata": {},
   "outputs": [],
   "source": [
    "for i in range(len(rewards)):\n",
    "  x_vals_reward.append([])\n",
    "  list_of_yvals_reward.append([])\n",
    "  for j in range(len(rewards[i])):\n",
    "    if int(rewards[i][j].step < 3.5e6):\n",
    "      x_vals_reward[i].append(0 + int(rewards[i][j].step))\n",
    "      list_of_yvals_reward[i].append(int(rewards[i][j].value))\n",
    "plot.plot_line_graph(x_vals_reward, list_of_yvals_reward, list_of_names, filename_reward, title_reward)"
   ]
  },
  {
   "cell_type": "code",
   "execution_count": 18,
   "metadata": {},
   "outputs": [],
   "source": [
    "for i in range(len(loss)):\n",
    "  x_vals_loss.append([])\n",
    "  list_of_yvals_loss.append([])\n",
    "  for j in range(len(loss[i])):\n",
    "    if int(loss[i][j].step < 3.5e6):\n",
    "      x_vals_loss[i].append(0 + int(loss[i][j].step))\n",
    "      list_of_yvals_loss[i].append(int(loss[i][j].value))\n",
    "plot.plot_line_graph(x_vals_loss, list_of_yvals_loss, list_of_names, filename_loss, title_loss)"
   ]
  },
  {
   "cell_type": "code",
   "execution_count": null,
   "metadata": {},
   "outputs": [],
   "source": []
  }
 ],
 "metadata": {
  "kernelspec": {
   "display_name": "Python 3.7.6 64-bit ('ml': conda)",
   "language": "python",
   "name": "python37664bitmlconda6d43f5d01a134e84acc727f43d072b5b"
  },
  "language_info": {
   "codemirror_mode": {
    "name": "ipython",
    "version": 3
   },
   "file_extension": ".py",
   "mimetype": "text/x-python",
   "name": "python",
   "nbconvert_exporter": "python",
   "pygments_lexer": "ipython3",
   "version": "3.7.6"
  }
 },
 "nbformat": 4,
 "nbformat_minor": 4
}
